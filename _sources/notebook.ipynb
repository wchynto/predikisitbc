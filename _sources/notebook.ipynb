{
  "cells": [
    {
      "cell_type": "markdown",
      "metadata": {
        "id": "OuiPJIM1wYv4"
      },
      "source": [
        "# Prediksi Penyakit Tuberkulosis dengan Metode Random Forest"
      ]
    },
    {
      "cell_type": "markdown",
      "metadata": {
        "id": "Z2LwPGskXGKi"
      },
      "source": [
        "## Data Understanding"
      ]
    },
    {
      "cell_type": "markdown",
      "metadata": {
        "id": "J5gjZlzZwms7"
      },
      "source": [
        "### Dataset data Tuberkulosis"
      ]
    },
    {
      "cell_type": "code",
      "execution_count": 1,
      "metadata": {
        "id": "0Ik2YqmWvgHu"
      },
      "outputs": [],
      "source": [
        "import pandas as pd\n",
        "import joblib\n",
        "from sklearn.model_selection import train_test_split\n",
        "import pydotplus"
      ]
    },
    {
      "cell_type": "code",
      "execution_count": 2,
      "metadata": {
        "colab": {
          "base_uri": "https://localhost:8080/"
        },
        "id": "LKSOcs8tvyfm",
        "outputId": "0b9bbc94-114d-4e22-b0e1-607ec714221e"
      },
      "outputs": [
        {
          "name": "stdout",
          "output_type": "stream",
          "text": [
            "      NO  UMUR JENIS KELAMIN FOTO TORAKS STATUS HIV RIWAYAT DIABETES  \\\n",
            "0      1    17             P     Positif    Negatif            Tidak   \n",
            "1      2    19             P     Positif    Negatif            Tidak   \n",
            "2      3    37             P     Positif    Negatif            Tidak   \n",
            "3      4    62             P     Positif    Negatif            Tidak   \n",
            "4      5    25             P     Positif    Negatif            Tidak   \n",
            "..   ...   ...           ...         ...        ...              ...   \n",
            "980  981    53             L     Negatif    Negatif            Tidak   \n",
            "981  982    17             P     Negatif    Negatif            Tidak   \n",
            "982  983    16             L     Negatif    Negatif            Tidak   \n",
            "983  984    69             P     Negatif    Negatif            Tidak   \n",
            "984  985    68             L     Positif    Negatif            Tidak   \n",
            "\n",
            "        HASIL TCM LOKASI ANATOMI  \n",
            "0    Rif Sensitif           Paru  \n",
            "1    Rif Sensitif           Paru  \n",
            "2    Rif Sensitif           Paru  \n",
            "3    Rif Sensitif           Paru  \n",
            "4    Rif Sensitif    Ekstra paru  \n",
            "..            ...            ...  \n",
            "980  Rif Sensitif    Ekstra paru  \n",
            "981  Rif Sensitif    Ekstra paru  \n",
            "982  Rif Sensitif    Ekstra paru  \n",
            "983  Rif Sensitif    Ekstra paru  \n",
            "984       Negatif           Paru  \n",
            "\n",
            "[985 rows x 8 columns]\n"
          ]
        }
      ],
      "source": [
        "dataset = pd.read_csv('dataTB.csv')\n",
        "print(dataset)"
      ]
    },
    {
      "cell_type": "markdown",
      "metadata": {
        "id": "UliuBP2xw_4s"
      },
      "source": [
        "### Informasi Dataset"
      ]
    },
    {
      "cell_type": "code",
      "execution_count": 3,
      "metadata": {
        "colab": {
          "base_uri": "https://localhost:8080/"
        },
        "id": "WoqGG1JcxCbY",
        "outputId": "3af67477-e579-4eac-e4d8-8c95f134d908"
      },
      "outputs": [
        {
          "name": "stdout",
          "output_type": "stream",
          "text": [
            "<class 'pandas.core.frame.DataFrame'>\n",
            "RangeIndex: 985 entries, 0 to 984\n",
            "Data columns (total 8 columns):\n",
            " #   Column            Non-Null Count  Dtype \n",
            "---  ------            --------------  ----- \n",
            " 0   NO                985 non-null    int64 \n",
            " 1   UMUR              985 non-null    int64 \n",
            " 2   JENIS KELAMIN     985 non-null    object\n",
            " 3   FOTO TORAKS       985 non-null    object\n",
            " 4   STATUS HIV        985 non-null    object\n",
            " 5   RIWAYAT DIABETES  985 non-null    object\n",
            " 6   HASIL TCM         985 non-null    object\n",
            " 7   LOKASI ANATOMI    985 non-null    object\n",
            "dtypes: int64(2), object(6)\n",
            "memory usage: 61.7+ KB\n"
          ]
        }
      ],
      "source": [
        "dataset.info()"
      ]
    },
    {
      "cell_type": "code",
      "execution_count": 4,
      "metadata": {
        "colab": {
          "base_uri": "https://localhost:8080/"
        },
        "id": "ZuoRWegTxNwz",
        "outputId": "4f7a9429-6b7e-4e35-d15a-4a198e23825f"
      },
      "outputs": [
        {
          "data": {
            "text/plain": [
              "NO                   int64\n",
              "UMUR                 int64\n",
              "JENIS KELAMIN       object\n",
              "FOTO TORAKS         object\n",
              "STATUS HIV          object\n",
              "RIWAYAT DIABETES    object\n",
              "HASIL TCM           object\n",
              "LOKASI ANATOMI      object\n",
              "dtype: object"
            ]
          },
          "execution_count": 4,
          "metadata": {},
          "output_type": "execute_result"
        }
      ],
      "source": [
        "dataset.dtypes"
      ]
    },
    {
      "cell_type": "markdown",
      "metadata": {
        "id": "O_IpQPgVxYo2"
      },
      "source": [
        "### Mengecek Jumlah Data"
      ]
    },
    {
      "cell_type": "code",
      "execution_count": 5,
      "metadata": {
        "colab": {
          "base_uri": "https://localhost:8080/"
        },
        "id": "AdNhGHj2xf9r",
        "outputId": "24d4633a-5a18-44b7-f78a-ed0af0e16893"
      },
      "outputs": [
        {
          "data": {
            "text/plain": [
              "985"
            ]
          },
          "execution_count": 5,
          "metadata": {},
          "output_type": "execute_result"
        }
      ],
      "source": [
        "len(dataset.index)"
      ]
    },
    {
      "cell_type": "markdown",
      "metadata": {
        "id": "cLF19Bq9YA_9"
      },
      "source": [
        "## Preprocessing Data"
      ]
    },
    {
      "cell_type": "markdown",
      "metadata": {
        "id": "vBay7B3bxppC"
      },
      "source": [
        "### Missing Values"
      ]
    },
    {
      "cell_type": "markdown",
      "metadata": {
        "id": "j6_KedL0z2BW"
      },
      "source": [
        "#### Menampilkan Jumlah Isian Tiap Kolom Features"
      ]
    },
    {
      "cell_type": "code",
      "execution_count": 6,
      "metadata": {
        "colab": {
          "base_uri": "https://localhost:8080/"
        },
        "id": "2hf13Ggzz-0B",
        "outputId": "ffd93faf-4bcf-441f-bcdb-a2763fe336be"
      },
      "outputs": [
        {
          "name": "stdout",
          "output_type": "stream",
          "text": [
            "UMUR\n",
            "60    33\n",
            "50    30\n",
            "51    27\n",
            "55    27\n",
            "49    25\n",
            "      ..\n",
            "83     2\n",
            "87     2\n",
            "85     1\n",
            "82     1\n",
            "91     1\n",
            "Name: count, Length: 85, dtype: int64\n"
          ]
        }
      ],
      "source": [
        "print(dataset['UMUR'].value_counts())"
      ]
    },
    {
      "cell_type": "code",
      "execution_count": 7,
      "metadata": {
        "colab": {
          "base_uri": "https://localhost:8080/"
        },
        "id": "cbJjQ0Yh0CRo",
        "outputId": "6b5044cc-ce6b-41a0-b8e2-513d4b10e0af"
      },
      "outputs": [
        {
          "name": "stdout",
          "output_type": "stream",
          "text": [
            "JENIS KELAMIN\n",
            "L    565\n",
            "P    420\n",
            "Name: count, dtype: int64\n"
          ]
        }
      ],
      "source": [
        "print(dataset['JENIS KELAMIN'].value_counts())"
      ]
    },
    {
      "cell_type": "code",
      "execution_count": 8,
      "metadata": {
        "colab": {
          "base_uri": "https://localhost:8080/"
        },
        "id": "XMboyylbxtXz",
        "outputId": "6776f8ec-2272-4955-bc11-3ac79edd7884"
      },
      "outputs": [
        {
          "name": "stdout",
          "output_type": "stream",
          "text": [
            "FOTO TORAKS\n",
            "Positif    740\n",
            "Negatif    245\n",
            "Name: count, dtype: int64\n"
          ]
        }
      ],
      "source": [
        "print(dataset['FOTO TORAKS'].value_counts())"
      ]
    },
    {
      "cell_type": "code",
      "execution_count": 9,
      "metadata": {
        "colab": {
          "base_uri": "https://localhost:8080/"
        },
        "id": "UmYcDmar0Ho1",
        "outputId": "f605ddba-151e-402f-84f0-c021ec7b109e"
      },
      "outputs": [
        {
          "name": "stdout",
          "output_type": "stream",
          "text": [
            "STATUS HIV\n",
            "Negatif    959\n",
            "Positif     26\n",
            "Name: count, dtype: int64\n"
          ]
        }
      ],
      "source": [
        "print(dataset['STATUS HIV'].value_counts())"
      ]
    },
    {
      "cell_type": "code",
      "execution_count": 10,
      "metadata": {
        "colab": {
          "base_uri": "https://localhost:8080/"
        },
        "id": "EmADPHYj0Kne",
        "outputId": "1c06dbeb-cd95-4a82-9520-56cbc4b31fb3"
      },
      "outputs": [
        {
          "name": "stdout",
          "output_type": "stream",
          "text": [
            "RIWAYAT DIABETES\n",
            "Tidak    939\n",
            "Ya        46\n",
            "Name: count, dtype: int64\n"
          ]
        }
      ],
      "source": [
        "print(dataset['RIWAYAT DIABETES'].value_counts())"
      ]
    },
    {
      "cell_type": "code",
      "execution_count": 11,
      "metadata": {
        "colab": {
          "base_uri": "https://localhost:8080/"
        },
        "id": "7V3z7BGH0VOJ",
        "outputId": "c16822a4-2bd4-45da-a9ae-27761d86b197"
      },
      "outputs": [
        {
          "name": "stdout",
          "output_type": "stream",
          "text": [
            "HASIL TCM\n",
            "Rif Sensitif    794\n",
            "Negatif         185\n",
            "Rif resisten      6\n",
            "Name: count, dtype: int64\n"
          ]
        }
      ],
      "source": [
        "print(dataset['HASIL TCM'].value_counts())"
      ]
    },
    {
      "cell_type": "markdown",
      "metadata": {
        "id": "HxG_OibW18nW"
      },
      "source": [
        "#### Mengganti Missing Values dengan Modus (Data terbanyak) Tiap Kolom Features"
      ]
    },
    {
      "cell_type": "code",
      "execution_count": 12,
      "metadata": {
        "id": "eye10DWd7KwL"
      },
      "outputs": [],
      "source": [
        "dataTB = dataset"
      ]
    },
    {
      "cell_type": "code",
      "execution_count": 13,
      "metadata": {
        "id": "ADRBUQeW5zsf"
      },
      "outputs": [
        {
          "name": "stderr",
          "output_type": "stream",
          "text": [
            "/tmp/ipykernel_8100/1750346788.py:2: FutureWarning: A value is trying to be set on a copy of a DataFrame or Series through chained assignment using an inplace method.\n",
            "The behavior will change in pandas 3.0. This inplace method will never work because the intermediate object on which we are setting values always behaves as a copy.\n",
            "\n",
            "For example, when doing 'df[col].method(value, inplace=True)', try using 'df.method({col: value}, inplace=True)' or df[col] = df[col].method(value) instead, to perform the operation inplace on the original object.\n",
            "\n",
            "\n",
            "  dataTB['FOTO TORAKS'].replace('Tidak dilakukan', dataTB['FOTO TORAKS'].mode()[0], inplace=True)\n",
            "/tmp/ipykernel_8100/1750346788.py:5: FutureWarning: A value is trying to be set on a copy of a DataFrame or Series through chained assignment using an inplace method.\n",
            "The behavior will change in pandas 3.0. This inplace method will never work because the intermediate object on which we are setting values always behaves as a copy.\n",
            "\n",
            "For example, when doing 'df[col].method(value, inplace=True)', try using 'df.method({col: value}, inplace=True)' or df[col] = df[col].method(value) instead, to perform the operation inplace on the original object.\n",
            "\n",
            "\n",
            "  dataTB['STATUS HIV'].replace('Tidak diketahui', dataTB['STATUS HIV'].mode()[0], inplace=True)\n",
            "/tmp/ipykernel_8100/1750346788.py:8: FutureWarning: A value is trying to be set on a copy of a DataFrame or Series through chained assignment using an inplace method.\n",
            "The behavior will change in pandas 3.0. This inplace method will never work because the intermediate object on which we are setting values always behaves as a copy.\n",
            "\n",
            "For example, when doing 'df[col].method(value, inplace=True)', try using 'df.method({col: value}, inplace=True)' or df[col] = df[col].method(value) instead, to perform the operation inplace on the original object.\n",
            "\n",
            "\n",
            "  dataTB['RIWAYAT DIABETES'].replace('Tidak diketahui', dataTB['RIWAYAT DIABETES'].mode()[0], inplace=True)\n"
          ]
        }
      ],
      "source": [
        "# Mengganti 'Tidak dilakukan' pada 'FOTO TORAKS' dengan 'Positif' (modus)\n",
        "dataTB['FOTO TORAKS'].replace('Tidak dilakukan', dataTB['FOTO TORAKS'].mode()[0], inplace=True)\n",
        "\n",
        "# Mengganti 'Tidak diketahui' pada 'STATUS HIV' dengan 'Negatif' (modus)\n",
        "dataTB['STATUS HIV'].replace('Tidak diketahui', dataTB['STATUS HIV'].mode()[0], inplace=True)\n",
        "\n",
        "# Mengganti 'Tidak diketahui' pada 'RIWAYAT DIABETES' dengan 'Tidak' (modus)\n",
        "dataTB['RIWAYAT DIABETES'].replace('Tidak diketahui', dataTB['RIWAYAT DIABETES'].mode()[0], inplace=True)"
      ]
    },
    {
      "cell_type": "code",
      "execution_count": 14,
      "metadata": {
        "id": "zSDUASdE9BVG"
      },
      "outputs": [
        {
          "name": "stderr",
          "output_type": "stream",
          "text": [
            "/tmp/ipykernel_8100/1279823116.py:5: FutureWarning: A value is trying to be set on a copy of a DataFrame or Series through chained assignment using an inplace method.\n",
            "The behavior will change in pandas 3.0. This inplace method will never work because the intermediate object on which we are setting values always behaves as a copy.\n",
            "\n",
            "For example, when doing 'df[col].method(value, inplace=True)', try using 'df.method({col: value}, inplace=True)' or df[col] = df[col].method(value) instead, to perform the operation inplace on the original object.\n",
            "\n",
            "\n",
            "  dataTB['HASIL TCM'].replace('Tidak dilakukan', modus_kedua, inplace=True)\n"
          ]
        }
      ],
      "source": [
        "# Mendapatkan modus terbesar kedua dari kolom 'HASIL TCM'\n",
        "modus_kedua = dataTB['HASIL TCM'].value_counts().sort_values(ascending=False).index[1]\n",
        "\n",
        "# Mengganti 'Tidak dilakukan' dengan modus terbesar kedua\n",
        "dataTB['HASIL TCM'].replace('Tidak dilakukan', modus_kedua, inplace=True)"
      ]
    },
    {
      "cell_type": "code",
      "execution_count": 15,
      "metadata": {
        "colab": {
          "base_uri": "https://localhost:8080/"
        },
        "id": "lvzYIy1P7U9n",
        "outputId": "a56cdd02-39c0-407f-ce80-f80bbb0ada37"
      },
      "outputs": [
        {
          "name": "stdout",
          "output_type": "stream",
          "text": [
            "FOTO TORAKS\n",
            "Positif    740\n",
            "Negatif    245\n",
            "Name: count, dtype: int64\n",
            "STATUS HIV\n",
            "Negatif    959\n",
            "Positif     26\n",
            "Name: count, dtype: int64\n",
            "RIWAYAT DIABETES\n",
            "Tidak    939\n",
            "Ya        46\n",
            "Name: count, dtype: int64\n",
            "HASIL TCM\n",
            "Rif Sensitif    794\n",
            "Negatif         185\n",
            "Rif resisten      6\n",
            "Name: count, dtype: int64\n"
          ]
        }
      ],
      "source": [
        "print(dataTB['FOTO TORAKS'].value_counts())\n",
        "print(dataTB['STATUS HIV'].value_counts())\n",
        "print(dataTB['RIWAYAT DIABETES'].value_counts())\n",
        "print(dataTB['HASIL TCM'].value_counts())"
      ]
    },
    {
      "cell_type": "code",
      "execution_count": 16,
      "metadata": {
        "id": "4Riq_lbe9Zfr"
      },
      "outputs": [],
      "source": [
        "# Menyimpan hasil operasi Missing Values ke file CSV baru\n",
        "dataTB.to_csv(\"dataTB.csv\", index=False)"
      ]
    },
    {
      "cell_type": "markdown",
      "metadata": {
        "id": "a3wm3V6-_x5j"
      },
      "source": [
        "### Split Dataset (Data Train & Data Testing)"
      ]
    },
    {
      "cell_type": "markdown",
      "metadata": {
        "id": "m5z6nmQEB3RV"
      },
      "source": [
        "#### Membagi Dataset dengan Perbandingan 80:20"
      ]
    },
    {
      "cell_type": "code",
      "execution_count": 17,
      "metadata": {
        "id": "f6dUSZ2JBOAz"
      },
      "outputs": [],
      "source": [
        "# Membagi dataset menjadi training dan testing (80:20)\n",
        "X = dataTB.drop('LOKASI ANATOMI', axis=1)  # Pisahkan fitur (selain kolom LOKASI ANATOMI)\n",
        "y = dataTB['LOKASI ANATOMI']  # Kolom target (LOKASI ANATOMI)\n",
        "\n",
        "X_train, X_test, y_train, y_test = train_test_split(X, y, test_size=0.2, random_state=42)"
      ]
    },
    {
      "cell_type": "markdown",
      "metadata": {
        "id": "1B2BzZ1R_72a"
      },
      "source": [
        "#### Data Train"
      ]
    },
    {
      "cell_type": "code",
      "execution_count": 18,
      "metadata": {
        "id": "2GGCgSOBABx6"
      },
      "outputs": [],
      "source": [
        "# Menyimpan data training ke CSV\n",
        "X_train.to_csv(\"data_training.csv\", index=False)\n",
        "y_train.to_csv(\"target_training.csv\", index=False)"
      ]
    },
    {
      "cell_type": "markdown",
      "metadata": {
        "id": "4GjHaNyZBStT"
      },
      "source": [
        "#### Data Testing"
      ]
    },
    {
      "cell_type": "code",
      "execution_count": 19,
      "metadata": {
        "id": "y_cxv7x2BVpA"
      },
      "outputs": [],
      "source": [
        "# Menyimpan data testing ke CSV\n",
        "X_test.to_csv(\"data_testing.csv\", index=False)\n",
        "y_test.to_csv(\"target_testing.csv\", index=False)"
      ]
    },
    {
      "cell_type": "markdown",
      "metadata": {
        "id": "D72gAjf4Bbpz"
      },
      "source": [
        "#### Informasi Split Dataset"
      ]
    },
    {
      "cell_type": "code",
      "execution_count": 20,
      "metadata": {
        "colab": {
          "base_uri": "https://localhost:8080/"
        },
        "id": "8oHEdpa-BfAA",
        "outputId": "b41f7b5d-2afe-4ddd-a618-c2d6e4c90f04"
      },
      "outputs": [
        {
          "name": "stdout",
          "output_type": "stream",
          "text": [
            "Jumlah data training: 788\n",
            "Jumlah data testing: 197\n"
          ]
        }
      ],
      "source": [
        "# Cetak informasi dataset\n",
        "print(f\"Jumlah data training: {len(X_train)}\")\n",
        "print(f\"Jumlah data testing: {len(X_test)}\")"
      ]
    },
    {
      "cell_type": "markdown",
      "metadata": {
        "id": "kDTVPUod00uy"
      },
      "source": [
        "#### Menampilkan Jumlah Isian Kolom Target/Output"
      ]
    },
    {
      "cell_type": "code",
      "execution_count": 21,
      "metadata": {
        "colab": {
          "base_uri": "https://localhost:8080/"
        },
        "id": "IhvyZZP80fx6",
        "outputId": "3fead70b-59f5-4d06-df18-307c12e6b21e"
      },
      "outputs": [
        {
          "name": "stdout",
          "output_type": "stream",
          "text": [
            "LOKASI ANATOMI\n",
            "Paru           714\n",
            "Ekstra paru    271\n",
            "Name: count, dtype: int64\n"
          ]
        }
      ],
      "source": [
        "print(dataset['LOKASI ANATOMI'].value_counts())"
      ]
    },
    {
      "cell_type": "markdown",
      "metadata": {
        "id": "kRgtFkoW41R3"
      },
      "source": [
        "#### Encoding Data"
      ]
    },
    {
      "cell_type": "code",
      "execution_count": 22,
      "metadata": {
        "id": "yBt6h0cF400_"
      },
      "outputs": [],
      "source": [
        "import pandas as pd\n",
        "from sklearn.preprocessing import LabelEncoder\n",
        "\n",
        "def encode_data(data_path, target_columns):\n",
        "    # Load data\n",
        "    data = pd.read_csv(data_path)\n",
        "\n",
        "    # Encode target columns\n",
        "    encoder = LabelEncoder()\n",
        "    for column in target_columns:\n",
        "        data[column] = encoder.fit_transform(data[column])\n",
        "\n",
        "    # Save encoded data\n",
        "    data.to_csv(\"encoded_dataTB.csv\", index=False)\n",
        "\n",
        "target_columns = ['JENIS KELAMIN', 'FOTO TORAKS', 'STATUS HIV', 'RIWAYAT DIABETES', 'HASIL TCM', 'LOKASI ANATOMI']\n",
        "encode_data('dataTB.csv', target_columns)"
      ]
    },
    {
      "cell_type": "markdown",
      "metadata": {
        "id": "BLpP3bX9YEg5"
      },
      "source": [
        "## Modeling Data"
      ]
    },
    {
      "cell_type": "markdown",
      "metadata": {
        "id": "4hXhWfuG3z5e"
      },
      "source": [
        "#### Random Forest Classification"
      ]
    },
    {
      "cell_type": "code",
      "execution_count": 23,
      "metadata": {
        "id": "kk4Te9Hu3yhA"
      },
      "outputs": [],
      "source": [
        "import pandas as pd\n",
        "from sklearn.model_selection import train_test_split\n",
        "from sklearn.ensemble import RandomForestClassifier\n",
        "\n",
        "# Load encoded data\n",
        "data = pd.read_csv(\"encoded_dataTB.csv\")\n",
        "\n",
        "# Define feature and target columns\n",
        "feature_columns = ['JENIS KELAMIN', 'FOTO TORAKS', 'STATUS HIV', 'RIWAYAT DIABETES', 'HASIL TCM']\n",
        "target_column = 'LOKASI ANATOMI'\n",
        "\n",
        "# Split data into training and testing sets (assuming you haven't done this yet)\n",
        "X = data[feature_columns]\n",
        "y = data[target_column]\n",
        "\n",
        "X_train, X_test, y_train, y_test = train_test_split(X, y, test_size=0.25, random_state=42)\n",
        "\n",
        "# Create and train model (same as before)\n",
        "clf = RandomForestClassifier(n_estimators=100, random_state=42)\n",
        "clf.fit(X_train, y_train)\n",
        "joblib.dump(clf, 'rndm_forest_model.joblib')\n",
        "\n",
        "# Make predictions (same as before)\n",
        "y_pred = clf.predict(X_test)"
      ]
    },
    {
      "cell_type": "markdown",
      "metadata": {
        "id": "JPcQOVRcsPXc"
      },
      "source": [
        "## Evaluasi Data"
      ]
    },
    {
      "cell_type": "markdown",
      "metadata": {
        "id": "Ta7QB2t4C-bY"
      },
      "source": [
        "#### Confusion Matrix Evaluation"
      ]
    },
    {
      "cell_type": "code",
      "execution_count": 24,
      "metadata": {
        "id": "blbHHwKk-r35"
      },
      "outputs": [
        {
          "name": "stdout",
          "output_type": "stream",
          "text": [
            "Akurasi: 0.979757085020243\n",
            "Precision: 0.9731182795698925\n",
            "Recall: 1.0\n",
            "F1-score: 0.9863760217983651\n"
          ]
        }
      ],
      "source": [
        "from sklearn.metrics import accuracy_score, precision_score, recall_score, f1_score\n",
        "# Evaluate model (optional)\n",
        "accuracy = accuracy_score(y_test, y_pred)\n",
        "precision = precision_score(y_test, y_pred)\n",
        "recall = recall_score(y_test, y_pred)\n",
        "f1 = f1_score(y_test, y_pred)\n",
        "\n",
        "print(f\"Akurasi: {accuracy}\")\n",
        "print(f\"Precision: {precision}\")\n",
        "print(f\"Recall: {recall}\")\n",
        "print(f\"F1-score: {f1}\")"
      ]
    },
    {
      "cell_type": "markdown",
      "metadata": {
        "id": "2ED1SP1vC5fJ"
      },
      "source": [
        "#### Visualisasi Data"
      ]
    },
    {
      "cell_type": "code",
      "execution_count": 25,
      "metadata": {
        "id": "y3fAkCHaA6h6"
      },
      "outputs": [
        {
          "data": {
            "image/png": "[encoded data removed]",
            "text/plain": [
              "<Figure size 640x480 with 1 Axes>"
            ]
          },
          "metadata": {},
          "output_type": "display_data"
        }
      ],
      "source": [
        "import pandas as pd\n",
        "from sklearn.ensemble import RandomForestClassifier\n",
        "from sklearn.model_selection import train_test_split\n",
        "import matplotlib.pyplot as plt\n",
        "from sklearn.tree import export_graphviz\n",
        "import pydotplus\n",
        "\n",
        "# Visualize the first tree\n",
        "tree = clf.estimators_[0]\n",
        "class_names = [str(name) for name in data[target_column].unique()]\n",
        "\n",
        "# Export the tree with higher DPI\n",
        "export_graphviz(tree, out_file='tree.dot', class_names=class_names)\n",
        "\n",
        "# Create a pydotplus object and write PNG image\n",
        "graph = pydotplus.graph_from_dot_file('tree.dot')\n",
        "graph.write_png('tree.png')\n",
        "\n",
        "# Display the tree image with larger size\n",
        "plt.imshow(plt.imread('tree.png'), extent=(0, 12, 0, 8))\n",
        "plt.axis('off')\n",
        "plt.show()"
      ]
    }
  ],
  "metadata": {
    "colab": {
      "provenance": []
    },
    "kernelspec": {
      "display_name": "Python 3",
      "name": "python3"
    },
    "language_info": {
      "codemirror_mode": {
        "name": "ipython",
        "version": 3
      },
      "file_extension": ".py",
      "mimetype": "text/x-python",
      "name": "python",
      "nbconvert_exporter": "python",
      "pygments_lexer": "ipython3",
      "version": "3.12.3"
    }
  },
  "nbformat": 4,
  "nbformat_minor": 0
}
